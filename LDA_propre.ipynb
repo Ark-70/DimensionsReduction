{
 "cells": [
  {
   "cell_type": "markdown",
   "metadata": {},
   "source": [
    "# Diminution de dimensions par LDA puis classification \n",
    "## Dataset MNIST"
   ]
  },
  {
   "cell_type": "code",
   "execution_count": 1,
   "metadata": {},
   "outputs": [],
   "source": [
    "import pickle # sauvegarder le dataset\n",
    "\n",
    "from sklearn.datasets import fetch_openml\n",
    "import numpy as np\n",
    "import matplotlib.pyplot as plot\n",
    "from sklearn.preprocessing import MinMaxScaler\n",
    "\n",
    "np.set_printoptions(threshold=np.inf) # option pour les print de valeurs"
   ]
  },
  {
   "cell_type": "markdown",
   "metadata": {},
   "source": [
    "On gère un système de cache grâce à pickle pour ne pas refetch les données à chaque run du programme, puis on normalise"
   ]
  },
  {
   "cell_type": "code",
   "execution_count": 2,
   "metadata": {},
   "outputs": [
    {
     "name": "stdout",
     "output_type": "stream",
     "text": [
      "Searching for cached dataset...\n",
      "Cache found.\n"
     ]
    }
   ],
   "source": [
    "try:\n",
    "    print(\"Searching for cached dataset...\")\n",
    "    mnist = pickle.load(open(\"mnist.pickle\", \"rb\"))\n",
    "    print(\"Cache found.\")\n",
    "except (OSError, IOError) as e: # (\"ask for forgiveness\" principle)\n",
    "    print(\"No cache found. Downloading dataset...\")\n",
    "    mnist = fetch_openml('mnist_784', version=1, cache=True) # Choppe tout chez un serveur\n",
    "    print(\"Saving dataset...\")\n",
    "    pickle.dump(mnist, open(\"mnist.pickle\", \"wb\"))\n",
    "    print(\"Saved.\")\n",
    "    \n",
    "# On normalise les données d'entrainement entre 0 et 1\n",
    "\n",
    "normaliseur = MinMaxScaler()\n",
    "mnist.data = normaliseur.fit_transform(mnist.data)"
   ]
  },
  {
   "cell_type": "markdown",
   "metadata": {},
   "source": [
    "On print pour bien tout visualiser, et on s'occupe aussi de séparer les données d'entrainement des données de test, puis on fait la même chose en fonction des libellés."
   ]
  },
  {
   "cell_type": "code",
   "execution_count": 3,
   "metadata": {},
   "outputs": [
    {
     "name": "stdout",
     "output_type": "stream",
     "text": [
      "dimensions des données :  (70000, 784)\n",
      "nombre de pixels : (784,)\n",
      "nombre de labels :  (70000,)\n",
      "Test labels :  0 -> 9\n",
      "Train labels :  0 -> 9\n",
      "(784, 10000)\n",
      "(784, 100)\n"
     ]
    }
   ],
   "source": [
    "# Nb images = 70000\n",
    "# image = 28x28 = 784 pixels\n",
    "\n",
    "print('dimensions des données : ', mnist.data.shape) # 70000 lignes et 784 colonnes (ou l'inverse)\n",
    "print('nombre de pixels :', mnist.data[1].shape)\n",
    "print('nombre de labels : ', mnist.target.shape)\n",
    "# print(max(mnist.data[1]))\n",
    "# print(mnist.data)\n",
    "\n",
    "DEBUT_TESTS = 60001;\n",
    "nb_train_voulu = 10000 #inférieur ou égal à 60k\n",
    "nb_test_voulu = 100 #inférieur ou égal à 10k \n",
    "\n",
    "nb_test_ech = 10000;\n",
    "train = np.transpose(mnist.data[:nb_train_voulu])\n",
    "train_label = np.transpose(mnist.target[:nb_train_voulu])\n",
    "\n",
    "test = np.transpose(mnist.data[DEBUT_TESTS:DEBUT_TESTS+nb_test_voulu])\n",
    "test_label = np.transpose(mnist.target[DEBUT_TESTS:DEBUT_TESTS+nb_test_voulu])\n",
    "\n",
    "\n",
    "\n",
    "print(\"Test labels : \", test_label.min(),\"->\", test_label.max())\n",
    "print(\"Train labels : \", train_label.min(),\"->\", train_label.max())\n",
    "\n",
    "print(train.shape)\n",
    "print(test.shape)"
   ]
  },
  {
   "cell_type": "markdown",
   "metadata": {},
   "source": [
    "Les étapes principales de cet algorithme vont commencer ici. Cette boucle for va établir les covariances interclasses et intraclasses, pour chacune d'entre-elles, après avoir rassemblé qualitativement les échantillons.\n",
    "part_i correspond à un pourcentage de classe qui va jouer le rôle d'un coefficient d'importance.\n",
    "\n",
    "On essaie différentes manières de calculer l'autocovariance : la méthode Si_i2 et Si_i3 fournissent les mêmes résultats et sont justes."
   ]
  },
  {
   "cell_type": "code",
   "execution_count": 4,
   "metadata": {},
   "outputs": [
    {
     "name": "stdout",
     "output_type": "stream",
     "text": [
      "mask_vector_i.shape=(10000,); train_i.shape=(784, 1001); Si_i.shape=(784, 784); part_i=0.1001; Sw.shape=(784, 784)\n",
      "mask_vector_i.shape=(10000,); train_i.shape=(784, 1127); Si_i.shape=(784, 784); part_i=0.1127; Sw.shape=(784, 784)\n",
      "mask_vector_i.shape=(10000,); train_i.shape=(784, 991); Si_i.shape=(784, 784); part_i=0.0991; Sw.shape=(784, 784)\n",
      "mask_vector_i.shape=(10000,); train_i.shape=(784, 1032); Si_i.shape=(784, 784); part_i=0.1032; Sw.shape=(784, 784)\n",
      "mask_vector_i.shape=(10000,); train_i.shape=(784, 980); Si_i.shape=(784, 784); part_i=0.098; Sw.shape=(784, 784)\n",
      "mask_vector_i.shape=(10000,); train_i.shape=(784, 863); Si_i.shape=(784, 784); part_i=0.0863; Sw.shape=(784, 784)\n",
      "mask_vector_i.shape=(10000,); train_i.shape=(784, 1014); Si_i.shape=(784, 784); part_i=0.1014; Sw.shape=(784, 784)\n",
      "mask_vector_i.shape=(10000,); train_i.shape=(784, 1070); Si_i.shape=(784, 784); part_i=0.107; Sw.shape=(784, 784)\n",
      "mask_vector_i.shape=(10000,); train_i.shape=(784, 944); Si_i.shape=(784, 784); part_i=0.0944; Sw.shape=(784, 784)\n",
      "mask_vector_i.shape=(10000,); train_i.shape=(784, 978); Si_i.shape=(784, 784); part_i=0.0978; Sw.shape=(784, 784)\n"
     ]
    }
   ],
   "source": [
    "N = train.shape[1];\n",
    "dimension = train.shape[0]\n",
    "\n",
    "all_means = np.mean(train, axis=1)\n",
    "Sw = np.zeros((dimension, dimension))\n",
    "Sb = np.zeros((dimension, dimension))\n",
    "Si = [] # covariance inter classe\n",
    "\n",
    "for i in range(0, 10): # Le dernier exclu\n",
    "\n",
    "    mask_vector_i = (train_label == str(i)) # = [0 1 0 0 1...], une matrice d'indices pour selectionner toutes les données d'un label particulier\n",
    "\n",
    "    train_i = train[:,mask_vector_i] # data d'une classe\n",
    "\n",
    "    n_i = train_i.shape[1]\n",
    "    part_i = n_i / N\n",
    "    mean_i = np.mean(train_i, axis=1)\n",
    "\n",
    "    #Si_i1 = np.cov(train_i, train_i) # Autocovariance de chaque classe\n",
    "    Si_i2 = np.cov(train_i) # Autocovariance de chaque classe\n",
    "    #Si_i3 = (1/n_i) * (train_i - np.transpose(np.tile(mean_i, (n_i, 1)))).dot( np.transpose(train_i - np.transpose(np.tile(mean_i, (n_i, 1)))) ) # Autocovariance de chaque classe\n",
    "    \n",
    "    Si_i = Si_i2\n",
    "       \n",
    "    Sw += Si_i*part_i\n",
    " \n",
    "    Sb += part_i * (mean_i - all_means).dot( np.transpose(mean_i - all_means) )# ici on pourrait passer par la cov si on a un tableau des moyennes de classes\n",
    "\n",
    "    print('mask_vector_i.shape={}; train_i.shape={}; Si_i.shape={}; part_i={}; Sw.shape={}'.format(mask_vector_i.shape, train_i.shape, Si_i.shape, part_i, Sw.shape))"
   ]
  },
  {
   "cell_type": "markdown",
   "metadata": {},
   "source": [
    "Préparation de la réduction des dimensions, en prenant non pas la matrice de covariance de l'image de base, mais la matrice inverse (en l'occurence, la pseudo-inverse) ainsi que les éléments propres de cette dernière"
   ]
  },
  {
   "cell_type": "code",
   "execution_count": 5,
   "metadata": {},
   "outputs": [
    {
     "name": "stdout",
     "output_type": "stream",
     "text": [
      "(784, 784)\n"
     ]
    }
   ],
   "source": [
    "\n",
    "M = np.linalg.pinv(Sw) * Sb; # Comme les matrices peuvent être singulières on utilise les pseudoinverses\n",
    "U, S, V = np.linalg.svd(M)\n",
    "\n",
    "print(M.shape)\n"
   ]
  },
  {
   "cell_type": "markdown",
   "metadata": {},
   "source": [
    "## Réduction des dimensions\n",
    "Ici, on ne va garder que *p* composantes (sous-entendu valeurs propres) sur les 784 originales."
   ]
  },
  {
   "cell_type": "code",
   "execution_count": 6,
   "metadata": {},
   "outputs": [],
   "source": [
    "p = 784;\n",
    "G = U[:, 0:p];\n",
    "Y = np.transpose(G).dot(train);\n",
    "Y_t = np.transpose(G).dot(test);\n",
    "#accuracy = classifyNN(Y_t, Y, test_label, train_label)"
   ]
  },
  {
   "cell_type": "markdown",
   "metadata": {},
   "source": [
    "## Fonction de classification\n",
    "Ici, la classification est faite par *l'unique* plus proche voisin. Il faudrait la faire par *les* proches voisins, à savoir une classification K-NN, et, en fonction des K plus proche, déterminer la prédiction en fonction de la classe qui apparaît en majorité."
   ]
  },
  {
   "cell_type": "code",
   "execution_count": 7,
   "metadata": {
    "scrolled": false
   },
   "outputs": [
    {
     "name": "stdout",
     "output_type": "stream",
     "text": [
      "(784, 100)\n",
      "(784, 10000)\n",
      "(784, 100)\n",
      "(784, 10000)\n",
      "0.92\n"
     ]
    }
   ],
   "source": [
    "def classifyNN(Y_t, Y, test_label, train_label)\n",
    "    train_size = Y.shape[1]\n",
    "    test_size = Y_t.shape[1]\n",
    "    counter = np.zeros(test_size)\n",
    "    I_chapeau = np.ones(test_size)*(-1)\n",
    "\n",
    "    print(test.shape)\n",
    "    print(train.shape)\n",
    "\n",
    "    print(Y_t.shape)\n",
    "    print(Y.shape)\n",
    "\n",
    "    for test_digit in range(0, test_size):\n",
    "\n",
    "\n",
    "        test_mat = np.transpose(np.tile(Y_t[:, test_digit], (train_size, 1)))\n",
    "\n",
    "        distance = sum(abs(test_mat - Y)**2);\n",
    "        I = np.argmin(distance)\n",
    "        I_chapeau\n",
    "\n",
    "        if (train_label[I] == test_label[test_digit]):\n",
    "            counter[test_digit] += 1\n",
    "\n",
    "    accuracy = sum(counter) / test_size;\n",
    "    print(accuracy)\n",
    "    \n",
    "classifyNN(Y_t, Y, test_label, train_label)"
   ]
  },
  {
   "cell_type": "markdown",
   "metadata": {},
   "source": [
    "## Repassage au même nombre de dimensions "
   ]
  },
  {
   "cell_type": "code",
   "execution_count": 8,
   "metadata": {},
   "outputs": [
    {
     "name": "stdout",
     "output_type": "stream",
     "text": [
      "(784, 784)\n",
      "(784, 784)\n",
      "(784, 0)\n"
     ]
    }
   ],
   "source": [
    "print(U.shape)\n",
    "print(G.shape)\n",
    "zeros_pour_combler = np.zeros([U.shape[0], U.shape[1]-G.shape[1]])\n",
    "print(zeros_pour_combler.shape)\n",
    "U_chap = np.concatenate((G,zeros_pour_combler), axis=1)\n",
    "\n",
    "#vérification\n",
    "G_chap = U_chap[:, 0:p]\n",
    "np.array_equal(G_chap, G) # = true\n",
    "\n",
    "M_chap = np.dot(U_chap, np.dot(S, V))"
   ]
  },
  {
   "cell_type": "code",
   "execution_count": 9,
   "metadata": {
    "scrolled": true
   },
   "outputs": [
    {
     "data": {
      "image/png": "[encoded data removed]",
      "text/plain": [
       "<Figure size 576x288 with 1 Axes>"
      ]
     },
     "metadata": {
      "needs_background": "light"
     },
     "output_type": "display_data"
    }
   ],
   "source": [
    "plot.figure(figsize=(8,4));\n",
    "\n",
    "# Original Image\n",
    "plot.subplot(1, 2, 1);\n",
    "plot.imshow(mnist.data[0].reshape(28,28),\n",
    "              cmap = plot.cm.gray, interpolation='nearest',\n",
    "              clim=(0, 1));\n",
    "plot.xlabel('784 composantes', fontsize = 14)\n",
    "plot.title('Image originale', fontsize = 20);\n",
    "\n",
    "plot.show();"
   ]
  },
  {
   "cell_type": "code",
   "execution_count": null,
   "metadata": {},
   "outputs": [],
   "source": []
  },
  {
   "cell_type": "code",
   "execution_count": 10,
   "metadata": {
    "scrolled": true
   },
   "outputs": [
    {
     "data": {
      "image/png": "[encoded data removed]",
      "text/plain": [
       "<Figure size 576x288 with 1 Axes>"
      ]
     },
     "metadata": {
      "needs_background": "light"
     },
     "output_type": "display_data"
    }
   ],
   "source": [
    "plot.figure(figsize=(8,4));\n",
    "\n",
    "# Original Image\n",
    "plot.subplot(1, 2, 1);\n",
    "plot.imshow(U[:,test_size].reshape(28,28),\n",
    "              cmap = plot.cm.gray, interpolation='nearest',\n",
    "              clim=(0, 1));\n",
    "plot.xlabel('784 composantes', fontsize = 14)\n",
    "plot.title('Image originale', fontsize = 20);\n",
    "\n",
    "plot.show();"
   ]
  },
  {
   "cell_type": "code",
   "execution_count": 11,
   "metadata": {
    "scrolled": true
   },
   "outputs": [
    {
     "data": {
      "image/png": "[encoded data removed]",
      "text/plain": [
       "<Figure size 576x288 with 1 Axes>"
      ]
     },
     "metadata": {
      "needs_background": "light"
     },
     "output_type": "display_data"
    }
   ],
   "source": [
    "plot.figure(figsize=(8,4));\n",
    "\n",
    "# Original Image\n",
    "plot.subplot(1, 2, 1);\n",
    "plot.imshow(U_chap[:,test_size].reshape(28,28),\n",
    "              cmap = plot.cm.gray, interpolation='nearest',\n",
    "              clim=(0, 1));\n",
    "plot.xlabel('400 composantes', fontsize = 14)\n",
    "plot.title('Image réduite', fontsize = 20);\n",
    "\n",
    "plot.show();"
   ]
  }
 ],
 "metadata": {
  "kernelspec": {
   "display_name": "Python 3",
   "language": "python",
   "name": "python3"
  },
  "language_info": {
   "codemirror_mode": {
    "name": "ipython",
    "version": 3
   },
   "file_extension": ".py",
   "mimetype": "text/x-python",
   "name": "python",
   "nbconvert_exporter": "python",
   "pygments_lexer": "ipython3",
   "version": "3.8.1"
  }
 },
 "nbformat": 4,
 "nbformat_minor": 4
}
